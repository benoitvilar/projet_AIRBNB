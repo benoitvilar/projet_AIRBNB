{
 "cells": [
  {
   "cell_type": "markdown",
   "metadata": {
    "colab_type": "text",
    "id": "DfGRSwmleSZs"
   },
   "source": [
    "# Airbnb in Seattle "
   ]
  },
  {
   "cell_type": "markdown",
   "metadata": {
    "colab_type": "text",
    "id": "sJBMrcAKkIN0"
   },
   "source": [
    "**1. Importer les librairies et les deux datasets**"
   ]
  },
  {
   "cell_type": "code",
   "execution_count": 4,
   "metadata": {
    "colab": {},
    "colab_type": "code",
    "id": "tHNZ8x8peMnT"
   },
   "outputs": [],
   "source": [
    "import seaborn as sns\n",
    "import pandas as pd\n",
    "import numpy as np\n",
    "import matplotlib.pyplot as plt"
   ]
  },
  {
   "cell_type": "code",
   "execution_count": 5,
   "metadata": {
    "colab": {},
    "colab_type": "code",
    "id": "Yk0YqnzLhULe"
   },
   "outputs": [],
   "source": [
    "reviews = pd.read_csv('reviews.csv')\n",
    "listings = pd.read_csv(\"listings.csv\")"
   ]
  },
  {
   "cell_type": "markdown",
   "metadata": {
    "colab_type": "text",
    "id": "JIG0iPyskMrM"
   },
   "source": [
    "**2. Trouver un moyen de joindre le dataset `listings` & `reviews`**"
   ]
  },
  {
   "cell_type": "code",
   "execution_count": 6,
   "metadata": {
    "colab": {
     "base_uri": "https://localhost:8080/",
     "height": 203
    },
    "colab_type": "code",
    "executionInfo": {
     "elapsed": 926,
     "status": "ok",
     "timestamp": 1587569547853,
     "user": {
      "displayName": "Philéas Samir",
      "photoUrl": "https://lh5.googleusercontent.com/-FbBGbDYQ448/AAAAAAAAAAI/AAAAAAAAAUo/cYIvd5guwHI/s64/photo.jpg",
      "userId": "10441094633115017513"
     },
     "user_tz": -120
    },
    "id": "559UJNXyj0Le",
    "outputId": "21a34260-4ab9-42ee-c5f0-cb3d3642e4ec"
   },
   "outputs": [
    {
     "data": {
      "text/html": [
       "<div>\n",
       "<style scoped>\n",
       "    .dataframe tbody tr th:only-of-type {\n",
       "        vertical-align: middle;\n",
       "    }\n",
       "\n",
       "    .dataframe tbody tr th {\n",
       "        vertical-align: top;\n",
       "    }\n",
       "\n",
       "    .dataframe thead th {\n",
       "        text-align: right;\n",
       "    }\n",
       "</style>\n",
       "<table border=\"1\" class=\"dataframe\">\n",
       "  <thead>\n",
       "    <tr style=\"text-align: right;\">\n",
       "      <th></th>\n",
       "      <th>listing_id</th>\n",
       "      <th>id</th>\n",
       "      <th>date</th>\n",
       "      <th>reviewer_id</th>\n",
       "      <th>reviewer_name</th>\n",
       "      <th>comments</th>\n",
       "    </tr>\n",
       "  </thead>\n",
       "  <tbody>\n",
       "    <tr>\n",
       "      <th>0</th>\n",
       "      <td>7202016</td>\n",
       "      <td>38917982</td>\n",
       "      <td>2015-07-19</td>\n",
       "      <td>28943674</td>\n",
       "      <td>Bianca</td>\n",
       "      <td>Cute and cozy place. Perfect location to every...</td>\n",
       "    </tr>\n",
       "    <tr>\n",
       "      <th>1</th>\n",
       "      <td>7202016</td>\n",
       "      <td>39087409</td>\n",
       "      <td>2015-07-20</td>\n",
       "      <td>32440555</td>\n",
       "      <td>Frank</td>\n",
       "      <td>Kelly has a great room in a very central locat...</td>\n",
       "    </tr>\n",
       "    <tr>\n",
       "      <th>2</th>\n",
       "      <td>7202016</td>\n",
       "      <td>39820030</td>\n",
       "      <td>2015-07-26</td>\n",
       "      <td>37722850</td>\n",
       "      <td>Ian</td>\n",
       "      <td>Very spacious apartment, and in a great neighb...</td>\n",
       "    </tr>\n",
       "    <tr>\n",
       "      <th>3</th>\n",
       "      <td>7202016</td>\n",
       "      <td>40813543</td>\n",
       "      <td>2015-08-02</td>\n",
       "      <td>33671805</td>\n",
       "      <td>George</td>\n",
       "      <td>Close to Seattle Center and all it has to offe...</td>\n",
       "    </tr>\n",
       "    <tr>\n",
       "      <th>4</th>\n",
       "      <td>7202016</td>\n",
       "      <td>41986501</td>\n",
       "      <td>2015-08-10</td>\n",
       "      <td>34959538</td>\n",
       "      <td>Ming</td>\n",
       "      <td>Kelly was a great host and very accommodating ...</td>\n",
       "    </tr>\n",
       "  </tbody>\n",
       "</table>\n",
       "</div>"
      ],
      "text/plain": [
       "   listing_id        id        date  reviewer_id reviewer_name  \\\n",
       "0     7202016  38917982  2015-07-19     28943674        Bianca   \n",
       "1     7202016  39087409  2015-07-20     32440555         Frank   \n",
       "2     7202016  39820030  2015-07-26     37722850           Ian   \n",
       "3     7202016  40813543  2015-08-02     33671805        George   \n",
       "4     7202016  41986501  2015-08-10     34959538          Ming   \n",
       "\n",
       "                                            comments  \n",
       "0  Cute and cozy place. Perfect location to every...  \n",
       "1  Kelly has a great room in a very central locat...  \n",
       "2  Very spacious apartment, and in a great neighb...  \n",
       "3  Close to Seattle Center and all it has to offe...  \n",
       "4  Kelly was a great host and very accommodating ...  "
      ]
     },
     "execution_count": 6,
     "metadata": {},
     "output_type": "execute_result"
    }
   ],
   "source": [
    "reviews.head()"
   ]
  },
  {
   "cell_type": "code",
   "execution_count": 7,
   "metadata": {
    "colab": {
     "base_uri": "https://localhost:8080/",
     "height": 818
    },
    "colab_type": "code",
    "executionInfo": {
     "elapsed": 1571,
     "status": "ok",
     "timestamp": 1587569548943,
     "user": {
      "displayName": "Philéas Samir",
      "photoUrl": "https://lh5.googleusercontent.com/-FbBGbDYQ448/AAAAAAAAAAI/AAAAAAAAAUo/cYIvd5guwHI/s64/photo.jpg",
      "userId": "10441094633115017513"
     },
     "user_tz": -120
    },
    "id": "J2tmlH6pkQcf",
    "outputId": "5d278f10-9c08-4b66-fee8-440e32c7c9a7"
   },
   "outputs": [
    {
     "data": {
      "text/html": [
       "<div>\n",
       "<style scoped>\n",
       "    .dataframe tbody tr th:only-of-type {\n",
       "        vertical-align: middle;\n",
       "    }\n",
       "\n",
       "    .dataframe tbody tr th {\n",
       "        vertical-align: top;\n",
       "    }\n",
       "\n",
       "    .dataframe thead th {\n",
       "        text-align: right;\n",
       "    }\n",
       "</style>\n",
       "<table border=\"1\" class=\"dataframe\">\n",
       "  <thead>\n",
       "    <tr style=\"text-align: right;\">\n",
       "      <th></th>\n",
       "      <th>id</th>\n",
       "      <th>listing_url</th>\n",
       "      <th>scrape_id</th>\n",
       "      <th>last_scraped</th>\n",
       "      <th>name</th>\n",
       "      <th>summary</th>\n",
       "      <th>space</th>\n",
       "      <th>description</th>\n",
       "      <th>experiences_offered</th>\n",
       "      <th>neighborhood_overview</th>\n",
       "      <th>...</th>\n",
       "      <th>review_scores_value</th>\n",
       "      <th>requires_license</th>\n",
       "      <th>license</th>\n",
       "      <th>jurisdiction_names</th>\n",
       "      <th>instant_bookable</th>\n",
       "      <th>cancellation_policy</th>\n",
       "      <th>require_guest_profile_picture</th>\n",
       "      <th>require_guest_phone_verification</th>\n",
       "      <th>calculated_host_listings_count</th>\n",
       "      <th>reviews_per_month</th>\n",
       "    </tr>\n",
       "  </thead>\n",
       "  <tbody>\n",
       "    <tr>\n",
       "      <th>0</th>\n",
       "      <td>241032</td>\n",
       "      <td>https://www.airbnb.com/rooms/241032</td>\n",
       "      <td>20160104002432</td>\n",
       "      <td>2016-01-04</td>\n",
       "      <td>Stylish Queen Anne Apartment</td>\n",
       "      <td>NaN</td>\n",
       "      <td>Make your self at home in this charming one-be...</td>\n",
       "      <td>Make your self at home in this charming one-be...</td>\n",
       "      <td>none</td>\n",
       "      <td>NaN</td>\n",
       "      <td>...</td>\n",
       "      <td>10.0</td>\n",
       "      <td>f</td>\n",
       "      <td>NaN</td>\n",
       "      <td>WASHINGTON</td>\n",
       "      <td>f</td>\n",
       "      <td>moderate</td>\n",
       "      <td>f</td>\n",
       "      <td>f</td>\n",
       "      <td>2</td>\n",
       "      <td>4.07</td>\n",
       "    </tr>\n",
       "    <tr>\n",
       "      <th>1</th>\n",
       "      <td>953595</td>\n",
       "      <td>https://www.airbnb.com/rooms/953595</td>\n",
       "      <td>20160104002432</td>\n",
       "      <td>2016-01-04</td>\n",
       "      <td>Bright &amp; Airy Queen Anne Apartment</td>\n",
       "      <td>Chemically sensitive? We've removed the irrita...</td>\n",
       "      <td>Beautiful, hypoallergenic apartment in an extr...</td>\n",
       "      <td>Chemically sensitive? We've removed the irrita...</td>\n",
       "      <td>none</td>\n",
       "      <td>Queen Anne is a wonderful, truly functional vi...</td>\n",
       "      <td>...</td>\n",
       "      <td>10.0</td>\n",
       "      <td>f</td>\n",
       "      <td>NaN</td>\n",
       "      <td>WASHINGTON</td>\n",
       "      <td>f</td>\n",
       "      <td>strict</td>\n",
       "      <td>t</td>\n",
       "      <td>t</td>\n",
       "      <td>6</td>\n",
       "      <td>1.48</td>\n",
       "    </tr>\n",
       "    <tr>\n",
       "      <th>2</th>\n",
       "      <td>3308979</td>\n",
       "      <td>https://www.airbnb.com/rooms/3308979</td>\n",
       "      <td>20160104002432</td>\n",
       "      <td>2016-01-04</td>\n",
       "      <td>New Modern House-Amazing water view</td>\n",
       "      <td>New modern house built in 2013.  Spectacular s...</td>\n",
       "      <td>Our house is modern, light and fresh with a wa...</td>\n",
       "      <td>New modern house built in 2013.  Spectacular s...</td>\n",
       "      <td>none</td>\n",
       "      <td>Upper Queen Anne is a charming neighborhood fu...</td>\n",
       "      <td>...</td>\n",
       "      <td>10.0</td>\n",
       "      <td>f</td>\n",
       "      <td>NaN</td>\n",
       "      <td>WASHINGTON</td>\n",
       "      <td>f</td>\n",
       "      <td>strict</td>\n",
       "      <td>f</td>\n",
       "      <td>f</td>\n",
       "      <td>2</td>\n",
       "      <td>1.15</td>\n",
       "    </tr>\n",
       "    <tr>\n",
       "      <th>3</th>\n",
       "      <td>7421966</td>\n",
       "      <td>https://www.airbnb.com/rooms/7421966</td>\n",
       "      <td>20160104002432</td>\n",
       "      <td>2016-01-04</td>\n",
       "      <td>Queen Anne Chateau</td>\n",
       "      <td>A charming apartment that sits atop Queen Anne...</td>\n",
       "      <td>NaN</td>\n",
       "      <td>A charming apartment that sits atop Queen Anne...</td>\n",
       "      <td>none</td>\n",
       "      <td>NaN</td>\n",
       "      <td>...</td>\n",
       "      <td>NaN</td>\n",
       "      <td>f</td>\n",
       "      <td>NaN</td>\n",
       "      <td>WASHINGTON</td>\n",
       "      <td>f</td>\n",
       "      <td>flexible</td>\n",
       "      <td>f</td>\n",
       "      <td>f</td>\n",
       "      <td>1</td>\n",
       "      <td>NaN</td>\n",
       "    </tr>\n",
       "    <tr>\n",
       "      <th>4</th>\n",
       "      <td>278830</td>\n",
       "      <td>https://www.airbnb.com/rooms/278830</td>\n",
       "      <td>20160104002432</td>\n",
       "      <td>2016-01-04</td>\n",
       "      <td>Charming craftsman 3 bdm house</td>\n",
       "      <td>Cozy family craftman house in beautiful neighb...</td>\n",
       "      <td>Cozy family craftman house in beautiful neighb...</td>\n",
       "      <td>Cozy family craftman house in beautiful neighb...</td>\n",
       "      <td>none</td>\n",
       "      <td>We are in the beautiful neighborhood of Queen ...</td>\n",
       "      <td>...</td>\n",
       "      <td>9.0</td>\n",
       "      <td>f</td>\n",
       "      <td>NaN</td>\n",
       "      <td>WASHINGTON</td>\n",
       "      <td>f</td>\n",
       "      <td>strict</td>\n",
       "      <td>f</td>\n",
       "      <td>f</td>\n",
       "      <td>1</td>\n",
       "      <td>0.89</td>\n",
       "    </tr>\n",
       "  </tbody>\n",
       "</table>\n",
       "<p>5 rows × 92 columns</p>\n",
       "</div>"
      ],
      "text/plain": [
       "        id                           listing_url       scrape_id last_scraped  \\\n",
       "0   241032   https://www.airbnb.com/rooms/241032  20160104002432   2016-01-04   \n",
       "1   953595   https://www.airbnb.com/rooms/953595  20160104002432   2016-01-04   \n",
       "2  3308979  https://www.airbnb.com/rooms/3308979  20160104002432   2016-01-04   \n",
       "3  7421966  https://www.airbnb.com/rooms/7421966  20160104002432   2016-01-04   \n",
       "4   278830   https://www.airbnb.com/rooms/278830  20160104002432   2016-01-04   \n",
       "\n",
       "                                  name  \\\n",
       "0         Stylish Queen Anne Apartment   \n",
       "1   Bright & Airy Queen Anne Apartment   \n",
       "2  New Modern House-Amazing water view   \n",
       "3                   Queen Anne Chateau   \n",
       "4       Charming craftsman 3 bdm house   \n",
       "\n",
       "                                             summary  \\\n",
       "0                                                NaN   \n",
       "1  Chemically sensitive? We've removed the irrita...   \n",
       "2  New modern house built in 2013.  Spectacular s...   \n",
       "3  A charming apartment that sits atop Queen Anne...   \n",
       "4  Cozy family craftman house in beautiful neighb...   \n",
       "\n",
       "                                               space  \\\n",
       "0  Make your self at home in this charming one-be...   \n",
       "1  Beautiful, hypoallergenic apartment in an extr...   \n",
       "2  Our house is modern, light and fresh with a wa...   \n",
       "3                                                NaN   \n",
       "4  Cozy family craftman house in beautiful neighb...   \n",
       "\n",
       "                                         description experiences_offered  \\\n",
       "0  Make your self at home in this charming one-be...                none   \n",
       "1  Chemically sensitive? We've removed the irrita...                none   \n",
       "2  New modern house built in 2013.  Spectacular s...                none   \n",
       "3  A charming apartment that sits atop Queen Anne...                none   \n",
       "4  Cozy family craftman house in beautiful neighb...                none   \n",
       "\n",
       "                               neighborhood_overview  ... review_scores_value  \\\n",
       "0                                                NaN  ...                10.0   \n",
       "1  Queen Anne is a wonderful, truly functional vi...  ...                10.0   \n",
       "2  Upper Queen Anne is a charming neighborhood fu...  ...                10.0   \n",
       "3                                                NaN  ...                 NaN   \n",
       "4  We are in the beautiful neighborhood of Queen ...  ...                 9.0   \n",
       "\n",
       "  requires_license license jurisdiction_names instant_bookable  \\\n",
       "0                f     NaN         WASHINGTON                f   \n",
       "1                f     NaN         WASHINGTON                f   \n",
       "2                f     NaN         WASHINGTON                f   \n",
       "3                f     NaN         WASHINGTON                f   \n",
       "4                f     NaN         WASHINGTON                f   \n",
       "\n",
       "  cancellation_policy  require_guest_profile_picture  \\\n",
       "0            moderate                              f   \n",
       "1              strict                              t   \n",
       "2              strict                              f   \n",
       "3            flexible                              f   \n",
       "4              strict                              f   \n",
       "\n",
       "  require_guest_phone_verification calculated_host_listings_count  \\\n",
       "0                                f                              2   \n",
       "1                                t                              6   \n",
       "2                                f                              2   \n",
       "3                                f                              1   \n",
       "4                                f                              1   \n",
       "\n",
       "  reviews_per_month  \n",
       "0              4.07  \n",
       "1              1.48  \n",
       "2              1.15  \n",
       "3               NaN  \n",
       "4              0.89  \n",
       "\n",
       "[5 rows x 92 columns]"
      ]
     },
     "execution_count": 7,
     "metadata": {},
     "output_type": "execute_result"
    }
   ],
   "source": [
    "listings.head()"
   ]
  },
  {
   "cell_type": "code",
   "execution_count": 8,
   "metadata": {
    "colab": {},
    "colab_type": "code",
    "id": "jUxtt30-kTpv"
   },
   "outputs": [],
   "source": [
    "dataset = listings.merge(reviews, left_on =\"id\", right_on=\"listing_id\")"
   ]
  },
  {
   "cell_type": "code",
   "execution_count": 9,
   "metadata": {
    "colab": {
     "base_uri": "https://localhost:8080/",
     "height": 766
    },
    "colab_type": "code",
    "executionInfo": {
     "elapsed": 9621,
     "status": "ok",
     "timestamp": 1587569569567,
     "user": {
      "displayName": "Philéas Samir",
      "photoUrl": "https://lh5.googleusercontent.com/-FbBGbDYQ448/AAAAAAAAAAI/AAAAAAAAAUo/cYIvd5guwHI/s64/photo.jpg",
      "userId": "10441094633115017513"
     },
     "user_tz": -120
    },
    "id": "pH9DHZcXQ0GW",
    "outputId": "7b2270df-43f0-4c55-e074-b1dd8f8af002"
   },
   "outputs": [
    {
     "data": {
      "text/html": [
       "<div>\n",
       "<style scoped>\n",
       "    .dataframe tbody tr th:only-of-type {\n",
       "        vertical-align: middle;\n",
       "    }\n",
       "\n",
       "    .dataframe tbody tr th {\n",
       "        vertical-align: top;\n",
       "    }\n",
       "\n",
       "    .dataframe thead th {\n",
       "        text-align: right;\n",
       "    }\n",
       "</style>\n",
       "<table border=\"1\" class=\"dataframe\">\n",
       "  <thead>\n",
       "    <tr style=\"text-align: right;\">\n",
       "      <th></th>\n",
       "      <th>id_x</th>\n",
       "      <th>listing_url</th>\n",
       "      <th>scrape_id</th>\n",
       "      <th>last_scraped</th>\n",
       "      <th>name</th>\n",
       "      <th>summary</th>\n",
       "      <th>space</th>\n",
       "      <th>description</th>\n",
       "      <th>experiences_offered</th>\n",
       "      <th>neighborhood_overview</th>\n",
       "      <th>...</th>\n",
       "      <th>require_guest_profile_picture</th>\n",
       "      <th>require_guest_phone_verification</th>\n",
       "      <th>calculated_host_listings_count</th>\n",
       "      <th>reviews_per_month</th>\n",
       "      <th>listing_id</th>\n",
       "      <th>id_y</th>\n",
       "      <th>date</th>\n",
       "      <th>reviewer_id</th>\n",
       "      <th>reviewer_name</th>\n",
       "      <th>comments</th>\n",
       "    </tr>\n",
       "  </thead>\n",
       "  <tbody>\n",
       "    <tr>\n",
       "      <th>0</th>\n",
       "      <td>241032</td>\n",
       "      <td>https://www.airbnb.com/rooms/241032</td>\n",
       "      <td>20160104002432</td>\n",
       "      <td>2016-01-04</td>\n",
       "      <td>Stylish Queen Anne Apartment</td>\n",
       "      <td>NaN</td>\n",
       "      <td>Make your self at home in this charming one-be...</td>\n",
       "      <td>Make your self at home in this charming one-be...</td>\n",
       "      <td>none</td>\n",
       "      <td>NaN</td>\n",
       "      <td>...</td>\n",
       "      <td>f</td>\n",
       "      <td>f</td>\n",
       "      <td>2</td>\n",
       "      <td>4.07</td>\n",
       "      <td>241032</td>\n",
       "      <td>682061</td>\n",
       "      <td>2011-11-01</td>\n",
       "      <td>479824</td>\n",
       "      <td>Bro</td>\n",
       "      <td>Excellent all the way around. \\n\\nMaija was an...</td>\n",
       "    </tr>\n",
       "    <tr>\n",
       "      <th>1</th>\n",
       "      <td>241032</td>\n",
       "      <td>https://www.airbnb.com/rooms/241032</td>\n",
       "      <td>20160104002432</td>\n",
       "      <td>2016-01-04</td>\n",
       "      <td>Stylish Queen Anne Apartment</td>\n",
       "      <td>NaN</td>\n",
       "      <td>Make your self at home in this charming one-be...</td>\n",
       "      <td>Make your self at home in this charming one-be...</td>\n",
       "      <td>none</td>\n",
       "      <td>NaN</td>\n",
       "      <td>...</td>\n",
       "      <td>f</td>\n",
       "      <td>f</td>\n",
       "      <td>2</td>\n",
       "      <td>4.07</td>\n",
       "      <td>241032</td>\n",
       "      <td>691712</td>\n",
       "      <td>2011-11-04</td>\n",
       "      <td>357699</td>\n",
       "      <td>Megan</td>\n",
       "      <td>Maija's apartment was a wonderful place to sta...</td>\n",
       "    </tr>\n",
       "    <tr>\n",
       "      <th>2</th>\n",
       "      <td>241032</td>\n",
       "      <td>https://www.airbnb.com/rooms/241032</td>\n",
       "      <td>20160104002432</td>\n",
       "      <td>2016-01-04</td>\n",
       "      <td>Stylish Queen Anne Apartment</td>\n",
       "      <td>NaN</td>\n",
       "      <td>Make your self at home in this charming one-be...</td>\n",
       "      <td>Make your self at home in this charming one-be...</td>\n",
       "      <td>none</td>\n",
       "      <td>NaN</td>\n",
       "      <td>...</td>\n",
       "      <td>f</td>\n",
       "      <td>f</td>\n",
       "      <td>2</td>\n",
       "      <td>4.07</td>\n",
       "      <td>241032</td>\n",
       "      <td>702999</td>\n",
       "      <td>2011-11-08</td>\n",
       "      <td>1285567</td>\n",
       "      <td>Marylee</td>\n",
       "      <td>one of the most pleasant stays i've had in my ...</td>\n",
       "    </tr>\n",
       "    <tr>\n",
       "      <th>3</th>\n",
       "      <td>241032</td>\n",
       "      <td>https://www.airbnb.com/rooms/241032</td>\n",
       "      <td>20160104002432</td>\n",
       "      <td>2016-01-04</td>\n",
       "      <td>Stylish Queen Anne Apartment</td>\n",
       "      <td>NaN</td>\n",
       "      <td>Make your self at home in this charming one-be...</td>\n",
       "      <td>Make your self at home in this charming one-be...</td>\n",
       "      <td>none</td>\n",
       "      <td>NaN</td>\n",
       "      <td>...</td>\n",
       "      <td>f</td>\n",
       "      <td>f</td>\n",
       "      <td>2</td>\n",
       "      <td>4.07</td>\n",
       "      <td>241032</td>\n",
       "      <td>717262</td>\n",
       "      <td>2011-11-14</td>\n",
       "      <td>647857</td>\n",
       "      <td>Graham</td>\n",
       "      <td>Maija's suite is beautiful, cozy and convenien...</td>\n",
       "    </tr>\n",
       "    <tr>\n",
       "      <th>4</th>\n",
       "      <td>241032</td>\n",
       "      <td>https://www.airbnb.com/rooms/241032</td>\n",
       "      <td>20160104002432</td>\n",
       "      <td>2016-01-04</td>\n",
       "      <td>Stylish Queen Anne Apartment</td>\n",
       "      <td>NaN</td>\n",
       "      <td>Make your self at home in this charming one-be...</td>\n",
       "      <td>Make your self at home in this charming one-be...</td>\n",
       "      <td>none</td>\n",
       "      <td>NaN</td>\n",
       "      <td>...</td>\n",
       "      <td>f</td>\n",
       "      <td>f</td>\n",
       "      <td>2</td>\n",
       "      <td>4.07</td>\n",
       "      <td>241032</td>\n",
       "      <td>730226</td>\n",
       "      <td>2011-11-19</td>\n",
       "      <td>1389821</td>\n",
       "      <td>Franka</td>\n",
       "      <td>Our stay was short and pleasant. With its own ...</td>\n",
       "    </tr>\n",
       "  </tbody>\n",
       "</table>\n",
       "<p>5 rows × 98 columns</p>\n",
       "</div>"
      ],
      "text/plain": [
       "     id_x                          listing_url       scrape_id last_scraped  \\\n",
       "0  241032  https://www.airbnb.com/rooms/241032  20160104002432   2016-01-04   \n",
       "1  241032  https://www.airbnb.com/rooms/241032  20160104002432   2016-01-04   \n",
       "2  241032  https://www.airbnb.com/rooms/241032  20160104002432   2016-01-04   \n",
       "3  241032  https://www.airbnb.com/rooms/241032  20160104002432   2016-01-04   \n",
       "4  241032  https://www.airbnb.com/rooms/241032  20160104002432   2016-01-04   \n",
       "\n",
       "                           name summary  \\\n",
       "0  Stylish Queen Anne Apartment     NaN   \n",
       "1  Stylish Queen Anne Apartment     NaN   \n",
       "2  Stylish Queen Anne Apartment     NaN   \n",
       "3  Stylish Queen Anne Apartment     NaN   \n",
       "4  Stylish Queen Anne Apartment     NaN   \n",
       "\n",
       "                                               space  \\\n",
       "0  Make your self at home in this charming one-be...   \n",
       "1  Make your self at home in this charming one-be...   \n",
       "2  Make your self at home in this charming one-be...   \n",
       "3  Make your self at home in this charming one-be...   \n",
       "4  Make your self at home in this charming one-be...   \n",
       "\n",
       "                                         description experiences_offered  \\\n",
       "0  Make your self at home in this charming one-be...                none   \n",
       "1  Make your self at home in this charming one-be...                none   \n",
       "2  Make your self at home in this charming one-be...                none   \n",
       "3  Make your self at home in this charming one-be...                none   \n",
       "4  Make your self at home in this charming one-be...                none   \n",
       "\n",
       "  neighborhood_overview  ... require_guest_profile_picture  \\\n",
       "0                   NaN  ...                             f   \n",
       "1                   NaN  ...                             f   \n",
       "2                   NaN  ...                             f   \n",
       "3                   NaN  ...                             f   \n",
       "4                   NaN  ...                             f   \n",
       "\n",
       "  require_guest_phone_verification calculated_host_listings_count  \\\n",
       "0                                f                              2   \n",
       "1                                f                              2   \n",
       "2                                f                              2   \n",
       "3                                f                              2   \n",
       "4                                f                              2   \n",
       "\n",
       "  reviews_per_month listing_id    id_y        date reviewer_id reviewer_name  \\\n",
       "0              4.07     241032  682061  2011-11-01      479824           Bro   \n",
       "1              4.07     241032  691712  2011-11-04      357699         Megan   \n",
       "2              4.07     241032  702999  2011-11-08     1285567       Marylee   \n",
       "3              4.07     241032  717262  2011-11-14      647857        Graham   \n",
       "4              4.07     241032  730226  2011-11-19     1389821        Franka   \n",
       "\n",
       "                                            comments  \n",
       "0  Excellent all the way around. \\n\\nMaija was an...  \n",
       "1  Maija's apartment was a wonderful place to sta...  \n",
       "2  one of the most pleasant stays i've had in my ...  \n",
       "3  Maija's suite is beautiful, cozy and convenien...  \n",
       "4  Our stay was short and pleasant. With its own ...  \n",
       "\n",
       "[5 rows x 98 columns]"
      ]
     },
     "execution_count": 9,
     "metadata": {},
     "output_type": "execute_result"
    }
   ],
   "source": [
    "dataset.head()"
   ]
  },
  {
   "cell_type": "code",
   "execution_count": 10,
   "metadata": {
    "colab": {
     "base_uri": "https://localhost:8080/",
     "height": 34
    },
    "colab_type": "code",
    "executionInfo": {
     "elapsed": 514,
     "status": "ok",
     "timestamp": 1587569667459,
     "user": {
      "displayName": "Philéas Samir",
      "photoUrl": "https://lh5.googleusercontent.com/-FbBGbDYQ448/AAAAAAAAAAI/AAAAAAAAAUo/cYIvd5guwHI/s64/photo.jpg",
      "userId": "10441094633115017513"
     },
     "user_tz": -120
    },
    "id": "Hp8wUXQDhoiN",
    "outputId": "91c5531f-05de-4ca9-a83e-acef1fe99d97"
   },
   "outputs": [
    {
     "data": {
      "text/plain": [
       "(84849, 98)"
      ]
     },
     "execution_count": 10,
     "metadata": {},
     "output_type": "execute_result"
    }
   ],
   "source": [
    "dataset.shape"
   ]
  },
  {
   "cell_type": "markdown",
   "metadata": {
    "colab_type": "text",
    "id": "nV5HsfWbqDcY"
   },
   "source": [
    "**3. Essayons de voir ce qui influence le prix d'un appartement Airbnb à Seattle** \n",
    "\n",
    "**Regardez tout d'abord la distribution des prix** "
   ]
  },
  {
   "cell_type": "code",
   "execution_count": 11,
   "metadata": {
    "colab": {
     "base_uri": "https://localhost:8080/",
     "height": 223
    },
    "colab_type": "code",
    "executionInfo": {
     "elapsed": 3935,
     "status": "ok",
     "timestamp": 1587570236288,
     "user": {
      "displayName": "Philéas Samir",
      "photoUrl": "https://lh5.googleusercontent.com/-FbBGbDYQ448/AAAAAAAAAAI/AAAAAAAAAUo/cYIvd5guwHI/s64/photo.jpg",
      "userId": "10441094633115017513"
     },
     "user_tz": -120
    },
    "id": "RxerdvVeVIoP",
    "outputId": "872a09c8-f4f8-45b9-e721-3884a9ec33ba"
   },
   "outputs": [
    {
     "data": {
      "text/plain": [
       "0         $85.00\n",
       "1         $85.00\n",
       "2         $85.00\n",
       "3         $85.00\n",
       "4         $85.00\n",
       "          ...   \n",
       "84844     $95.00\n",
       "84845     $95.00\n",
       "84846    $359.00\n",
       "84847     $79.00\n",
       "84848     $79.00\n",
       "Name: price, Length: 84849, dtype: object"
      ]
     },
     "execution_count": 11,
     "metadata": {},
     "output_type": "execute_result"
    }
   ],
   "source": [
    "dataset.price"
   ]
  },
  {
   "cell_type": "code",
   "execution_count": 12,
   "metadata": {
    "colab": {},
    "colab_type": "code",
    "id": "p6hMy2njo_DM"
   },
   "outputs": [],
   "source": [
    "dataset.price = dataset.price.apply(lambda x: float(x[1:].replace(\",\",\"\")))\n",
    "#dataset.price = dataset.price.str.replace(\"$\",\"\").str.replace(\",\",\"\").astype(float)"
   ]
  },
  {
   "cell_type": "code",
   "execution_count": 13,
   "metadata": {
    "colab": {
     "base_uri": "https://localhost:8080/",
     "height": 300
    },
    "colab_type": "code",
    "executionInfo": {
     "elapsed": 5749,
     "status": "ok",
     "timestamp": 1587570249384,
     "user": {
      "displayName": "Philéas Samir",
      "photoUrl": "https://lh5.googleusercontent.com/-FbBGbDYQ448/AAAAAAAAAAI/AAAAAAAAAUo/cYIvd5guwHI/s64/photo.jpg",
      "userId": "10441094633115017513"
     },
     "user_tz": -120
    },
    "id": "MkKMyDUtqpx3",
    "outputId": "56501902-129f-4716-8e36-4641c8573f9d"
   },
   "outputs": [
    {
     "data": {
      "text/plain": [
       "<matplotlib.axes._subplots.AxesSubplot at 0x1a1cd31390>"
      ]
     },
     "execution_count": 13,
     "metadata": {},
     "output_type": "execute_result"
    },
    {
     "data": {
      "image/png": "[encoded data removed]",
      "text/plain": [
       "<Figure size 432x288 with 1 Axes>"
      ]
     },
     "metadata": {
      "needs_background": "light"
     },
     "output_type": "display_data"
    }
   ],
   "source": [
    "sns.distplot(dataset.price)"
   ]
  },
  {
   "cell_type": "markdown",
   "metadata": {
    "colab_type": "text",
    "id": "tFHNdowXsWxI"
   },
   "source": [
    "**4. On voit très clairement des outliers dans ces prix. Créez un nouveau dataset avec uniquement les appartements qui ont un prix maximum à 400$ / nuit**"
   ]
  },
  {
   "cell_type": "code",
   "execution_count": 14,
   "metadata": {
    "colab": {},
    "colab_type": "code",
    "id": "9QozLocGrxB7"
   },
   "outputs": [],
   "source": [
    "avg_priced_dataset = dataset[dataset.price <= 400]"
   ]
  },
  {
   "cell_type": "code",
   "execution_count": 15,
   "metadata": {
    "colab": {
     "base_uri": "https://localhost:8080/",
     "height": 315
    },
    "colab_type": "code",
    "executionInfo": {
     "elapsed": 1386,
     "status": "ok",
     "timestamp": 1587570284420,
     "user": {
      "displayName": "Philéas Samir",
      "photoUrl": "https://lh5.googleusercontent.com/-FbBGbDYQ448/AAAAAAAAAAI/AAAAAAAAAUo/cYIvd5guwHI/s64/photo.jpg",
      "userId": "10441094633115017513"
     },
     "user_tz": -120
    },
    "id": "MzY0WWfJtUHA",
    "outputId": "1e927237-65ae-4e0b-f4b0-08f9c76d2f18"
   },
   "outputs": [
    {
     "data": {
      "text/html": [
       "<div>\n",
       "<style scoped>\n",
       "    .dataframe tbody tr th:only-of-type {\n",
       "        vertical-align: middle;\n",
       "    }\n",
       "\n",
       "    .dataframe tbody tr th {\n",
       "        vertical-align: top;\n",
       "    }\n",
       "\n",
       "    .dataframe thead th {\n",
       "        text-align: right;\n",
       "    }\n",
       "</style>\n",
       "<table border=\"1\" class=\"dataframe\">\n",
       "  <thead>\n",
       "    <tr style=\"text-align: right;\">\n",
       "      <th></th>\n",
       "      <th>id_x</th>\n",
       "      <th>scrape_id</th>\n",
       "      <th>host_id</th>\n",
       "      <th>host_listings_count</th>\n",
       "      <th>host_total_listings_count</th>\n",
       "      <th>latitude</th>\n",
       "      <th>longitude</th>\n",
       "      <th>accommodates</th>\n",
       "      <th>bathrooms</th>\n",
       "      <th>bedrooms</th>\n",
       "      <th>...</th>\n",
       "      <th>review_scores_checkin</th>\n",
       "      <th>review_scores_communication</th>\n",
       "      <th>review_scores_location</th>\n",
       "      <th>review_scores_value</th>\n",
       "      <th>license</th>\n",
       "      <th>calculated_host_listings_count</th>\n",
       "      <th>reviews_per_month</th>\n",
       "      <th>listing_id</th>\n",
       "      <th>id_y</th>\n",
       "      <th>reviewer_id</th>\n",
       "    </tr>\n",
       "  </thead>\n",
       "  <tbody>\n",
       "    <tr>\n",
       "      <th>count</th>\n",
       "      <td>8.427600e+04</td>\n",
       "      <td>8.427600e+04</td>\n",
       "      <td>8.427600e+04</td>\n",
       "      <td>84276.000000</td>\n",
       "      <td>84276.000000</td>\n",
       "      <td>84276.000000</td>\n",
       "      <td>84276.000000</td>\n",
       "      <td>84276.000000</td>\n",
       "      <td>83667.000000</td>\n",
       "      <td>83986.000000</td>\n",
       "      <td>...</td>\n",
       "      <td>84243.000000</td>\n",
       "      <td>84252.000000</td>\n",
       "      <td>84246.000000</td>\n",
       "      <td>84245.000000</td>\n",
       "      <td>0.0</td>\n",
       "      <td>84276.000000</td>\n",
       "      <td>84276.000000</td>\n",
       "      <td>8.427600e+04</td>\n",
       "      <td>8.427600e+04</td>\n",
       "      <td>8.427600e+04</td>\n",
       "    </tr>\n",
       "    <tr>\n",
       "      <th>mean</th>\n",
       "      <td>3.000882e+06</td>\n",
       "      <td>2.016010e+13</td>\n",
       "      <td>9.285215e+06</td>\n",
       "      <td>4.142567</td>\n",
       "      <td>4.142567</td>\n",
       "      <td>47.626526</td>\n",
       "      <td>-122.333485</td>\n",
       "      <td>3.070127</td>\n",
       "      <td>1.157213</td>\n",
       "      <td>1.133713</td>\n",
       "      <td>...</td>\n",
       "      <td>9.865247</td>\n",
       "      <td>9.870769</td>\n",
       "      <td>9.599269</td>\n",
       "      <td>9.501941</td>\n",
       "      <td>NaN</td>\n",
       "      <td>2.273969</td>\n",
       "      <td>3.624716</td>\n",
       "      <td>3.000882e+06</td>\n",
       "      <td>3.057100e+07</td>\n",
       "      <td>1.701100e+07</td>\n",
       "    </tr>\n",
       "    <tr>\n",
       "      <th>std</th>\n",
       "      <td>2.472995e+06</td>\n",
       "      <td>4.114087e+01</td>\n",
       "      <td>1.017225e+07</td>\n",
       "      <td>14.219709</td>\n",
       "      <td>14.219709</td>\n",
       "      <td>0.042949</td>\n",
       "      <td>0.031303</td>\n",
       "      <td>1.676846</td>\n",
       "      <td>0.438961</td>\n",
       "      <td>0.667682</td>\n",
       "      <td>...</td>\n",
       "      <td>0.369126</td>\n",
       "      <td>0.359835</td>\n",
       "      <td>0.545658</td>\n",
       "      <td>0.567287</td>\n",
       "      <td>NaN</td>\n",
       "      <td>3.437275</td>\n",
       "      <td>2.186954</td>\n",
       "      <td>2.472995e+06</td>\n",
       "      <td>1.637916e+07</td>\n",
       "      <td>1.354158e+07</td>\n",
       "    </tr>\n",
       "    <tr>\n",
       "      <th>min</th>\n",
       "      <td>4.291000e+03</td>\n",
       "      <td>2.016010e+13</td>\n",
       "      <td>4.193000e+03</td>\n",
       "      <td>1.000000</td>\n",
       "      <td>1.000000</td>\n",
       "      <td>47.505088</td>\n",
       "      <td>-122.417219</td>\n",
       "      <td>1.000000</td>\n",
       "      <td>0.000000</td>\n",
       "      <td>0.000000</td>\n",
       "      <td>...</td>\n",
       "      <td>2.000000</td>\n",
       "      <td>2.000000</td>\n",
       "      <td>4.000000</td>\n",
       "      <td>2.000000</td>\n",
       "      <td>NaN</td>\n",
       "      <td>1.000000</td>\n",
       "      <td>0.020000</td>\n",
       "      <td>4.291000e+03</td>\n",
       "      <td>3.721000e+03</td>\n",
       "      <td>1.500000e+01</td>\n",
       "    </tr>\n",
       "    <tr>\n",
       "      <th>25%</th>\n",
       "      <td>7.946330e+05</td>\n",
       "      <td>2.016010e+13</td>\n",
       "      <td>1.393266e+06</td>\n",
       "      <td>1.000000</td>\n",
       "      <td>1.000000</td>\n",
       "      <td>47.606737</td>\n",
       "      <td>-122.356266</td>\n",
       "      <td>2.000000</td>\n",
       "      <td>1.000000</td>\n",
       "      <td>1.000000</td>\n",
       "      <td>...</td>\n",
       "      <td>10.000000</td>\n",
       "      <td>10.000000</td>\n",
       "      <td>9.000000</td>\n",
       "      <td>9.000000</td>\n",
       "      <td>NaN</td>\n",
       "      <td>1.000000</td>\n",
       "      <td>1.940000</td>\n",
       "      <td>7.946330e+05</td>\n",
       "      <td>1.722488e+07</td>\n",
       "      <td>5.045034e+06</td>\n",
       "    </tr>\n",
       "    <tr>\n",
       "      <th>50%</th>\n",
       "      <td>2.488228e+06</td>\n",
       "      <td>2.016010e+13</td>\n",
       "      <td>5.486995e+06</td>\n",
       "      <td>1.000000</td>\n",
       "      <td>1.000000</td>\n",
       "      <td>47.621627</td>\n",
       "      <td>-122.329441</td>\n",
       "      <td>2.000000</td>\n",
       "      <td>1.000000</td>\n",
       "      <td>1.000000</td>\n",
       "      <td>...</td>\n",
       "      <td>10.000000</td>\n",
       "      <td>10.000000</td>\n",
       "      <td>10.000000</td>\n",
       "      <td>10.000000</td>\n",
       "      <td>NaN</td>\n",
       "      <td>1.000000</td>\n",
       "      <td>3.290000</td>\n",
       "      <td>2.488228e+06</td>\n",
       "      <td>3.225987e+07</td>\n",
       "      <td>1.413230e+07</td>\n",
       "    </tr>\n",
       "    <tr>\n",
       "      <th>75%</th>\n",
       "      <td>4.681885e+06</td>\n",
       "      <td>2.016010e+13</td>\n",
       "      <td>1.378638e+07</td>\n",
       "      <td>3.000000</td>\n",
       "      <td>3.000000</td>\n",
       "      <td>47.661991</td>\n",
       "      <td>-122.311762</td>\n",
       "      <td>4.000000</td>\n",
       "      <td>1.000000</td>\n",
       "      <td>1.000000</td>\n",
       "      <td>...</td>\n",
       "      <td>10.000000</td>\n",
       "      <td>10.000000</td>\n",
       "      <td>10.000000</td>\n",
       "      <td>10.000000</td>\n",
       "      <td>NaN</td>\n",
       "      <td>2.000000</td>\n",
       "      <td>4.940000</td>\n",
       "      <td>4.681885e+06</td>\n",
       "      <td>4.458225e+07</td>\n",
       "      <td>2.762409e+07</td>\n",
       "    </tr>\n",
       "    <tr>\n",
       "      <th>max</th>\n",
       "      <td>1.024814e+07</td>\n",
       "      <td>2.016010e+13</td>\n",
       "      <td>5.076344e+07</td>\n",
       "      <td>502.000000</td>\n",
       "      <td>502.000000</td>\n",
       "      <td>47.733358</td>\n",
       "      <td>-122.254189</td>\n",
       "      <td>16.000000</td>\n",
       "      <td>8.000000</td>\n",
       "      <td>7.000000</td>\n",
       "      <td>...</td>\n",
       "      <td>10.000000</td>\n",
       "      <td>10.000000</td>\n",
       "      <td>10.000000</td>\n",
       "      <td>10.000000</td>\n",
       "      <td>NaN</td>\n",
       "      <td>37.000000</td>\n",
       "      <td>12.150000</td>\n",
       "      <td>1.024814e+07</td>\n",
       "      <td>5.873651e+07</td>\n",
       "      <td>5.281274e+07</td>\n",
       "    </tr>\n",
       "  </tbody>\n",
       "</table>\n",
       "<p>8 rows × 34 columns</p>\n",
       "</div>"
      ],
      "text/plain": [
       "               id_x     scrape_id       host_id  host_listings_count  \\\n",
       "count  8.427600e+04  8.427600e+04  8.427600e+04         84276.000000   \n",
       "mean   3.000882e+06  2.016010e+13  9.285215e+06             4.142567   \n",
       "std    2.472995e+06  4.114087e+01  1.017225e+07            14.219709   \n",
       "min    4.291000e+03  2.016010e+13  4.193000e+03             1.000000   \n",
       "25%    7.946330e+05  2.016010e+13  1.393266e+06             1.000000   \n",
       "50%    2.488228e+06  2.016010e+13  5.486995e+06             1.000000   \n",
       "75%    4.681885e+06  2.016010e+13  1.378638e+07             3.000000   \n",
       "max    1.024814e+07  2.016010e+13  5.076344e+07           502.000000   \n",
       "\n",
       "       host_total_listings_count      latitude     longitude  accommodates  \\\n",
       "count               84276.000000  84276.000000  84276.000000  84276.000000   \n",
       "mean                    4.142567     47.626526   -122.333485      3.070127   \n",
       "std                    14.219709      0.042949      0.031303      1.676846   \n",
       "min                     1.000000     47.505088   -122.417219      1.000000   \n",
       "25%                     1.000000     47.606737   -122.356266      2.000000   \n",
       "50%                     1.000000     47.621627   -122.329441      2.000000   \n",
       "75%                     3.000000     47.661991   -122.311762      4.000000   \n",
       "max                   502.000000     47.733358   -122.254189     16.000000   \n",
       "\n",
       "          bathrooms      bedrooms  ...  review_scores_checkin  \\\n",
       "count  83667.000000  83986.000000  ...           84243.000000   \n",
       "mean       1.157213      1.133713  ...               9.865247   \n",
       "std        0.438961      0.667682  ...               0.369126   \n",
       "min        0.000000      0.000000  ...               2.000000   \n",
       "25%        1.000000      1.000000  ...              10.000000   \n",
       "50%        1.000000      1.000000  ...              10.000000   \n",
       "75%        1.000000      1.000000  ...              10.000000   \n",
       "max        8.000000      7.000000  ...              10.000000   \n",
       "\n",
       "       review_scores_communication  review_scores_location  \\\n",
       "count                 84252.000000            84246.000000   \n",
       "mean                      9.870769                9.599269   \n",
       "std                       0.359835                0.545658   \n",
       "min                       2.000000                4.000000   \n",
       "25%                      10.000000                9.000000   \n",
       "50%                      10.000000               10.000000   \n",
       "75%                      10.000000               10.000000   \n",
       "max                      10.000000               10.000000   \n",
       "\n",
       "       review_scores_value  license  calculated_host_listings_count  \\\n",
       "count         84245.000000      0.0                    84276.000000   \n",
       "mean              9.501941      NaN                        2.273969   \n",
       "std               0.567287      NaN                        3.437275   \n",
       "min               2.000000      NaN                        1.000000   \n",
       "25%               9.000000      NaN                        1.000000   \n",
       "50%              10.000000      NaN                        1.000000   \n",
       "75%              10.000000      NaN                        2.000000   \n",
       "max              10.000000      NaN                       37.000000   \n",
       "\n",
       "       reviews_per_month    listing_id          id_y   reviewer_id  \n",
       "count       84276.000000  8.427600e+04  8.427600e+04  8.427600e+04  \n",
       "mean            3.624716  3.000882e+06  3.057100e+07  1.701100e+07  \n",
       "std             2.186954  2.472995e+06  1.637916e+07  1.354158e+07  \n",
       "min             0.020000  4.291000e+03  3.721000e+03  1.500000e+01  \n",
       "25%             1.940000  7.946330e+05  1.722488e+07  5.045034e+06  \n",
       "50%             3.290000  2.488228e+06  3.225987e+07  1.413230e+07  \n",
       "75%             4.940000  4.681885e+06  4.458225e+07  2.762409e+07  \n",
       "max            12.150000  1.024814e+07  5.873651e+07  5.281274e+07  \n",
       "\n",
       "[8 rows x 34 columns]"
      ]
     },
     "execution_count": 15,
     "metadata": {},
     "output_type": "execute_result"
    }
   ],
   "source": [
    "avg_priced_dataset.describe()"
   ]
  },
  {
   "cell_type": "code",
   "execution_count": 16,
   "metadata": {
    "colab": {
     "base_uri": "https://localhost:8080/",
     "height": 296
    },
    "colab_type": "code",
    "executionInfo": {
     "elapsed": 986,
     "status": "ok",
     "timestamp": 1587570287923,
     "user": {
      "displayName": "Philéas Samir",
      "photoUrl": "https://lh5.googleusercontent.com/-FbBGbDYQ448/AAAAAAAAAAI/AAAAAAAAAUo/cYIvd5guwHI/s64/photo.jpg",
      "userId": "10441094633115017513"
     },
     "user_tz": -120
    },
    "id": "s_mf_Lbystzd",
    "outputId": "2cf1c726-8a26-499d-a861-5e22f1cee984"
   },
   "outputs": [
    {
     "data": {
      "text/plain": [
       "<matplotlib.axes._subplots.AxesSubplot at 0x1a27c46e90>"
      ]
     },
     "execution_count": 16,
     "metadata": {},
     "output_type": "execute_result"
    },
    {
     "data": {
      "image/png": "[encoded data removed]",
      "text/plain": [
       "<Figure size 432x288 with 1 Axes>"
      ]
     },
     "metadata": {
      "needs_background": "light"
     },
     "output_type": "display_data"
    }
   ],
   "source": [
    "sns.distplot(avg_priced_dataset.price)"
   ]
  },
  {
   "cell_type": "markdown",
   "metadata": {
    "colab_type": "text",
    "id": "uLbEcYQvuT5D"
   },
   "source": [
    "**5. Calculez la proportion d'appartement que vous avez gardé dans le nouveau dataset par rapport à l'ancien**"
   ]
  },
  {
   "cell_type": "code",
   "execution_count": 17,
   "metadata": {
    "colab": {
     "base_uri": "https://localhost:8080/",
     "height": 34
    },
    "colab_type": "code",
    "executionInfo": {
     "elapsed": 495,
     "status": "ok",
     "timestamp": 1568792991468,
     "user": {
      "displayName": "Charles TANGUY",
      "photoUrl": "",
      "userId": "14578398709468794185"
     },
     "user_tz": -120
    },
    "id": "CqYlxKoiuZz0",
    "outputId": "54d24550-67e7-4f33-d378-caaa53033d6b"
   },
   "outputs": [
    {
     "data": {
      "text/plain": [
       "0.993246826715695"
      ]
     },
     "execution_count": 17,
     "metadata": {},
     "output_type": "execute_result"
    }
   ],
   "source": [
    "len(avg_priced_dataset)/len(dataset)"
   ]
  },
  {
   "cell_type": "markdown",
   "metadata": {
    "colab_type": "text",
    "id": "POh3oLcwuH2S"
   },
   "source": [
    "**6. Pour l'instant nous allons continuer sur ce dataset qui nous semble plus pertinent** \n",
    "\n",
    "**Regardez si le quartier a une influence sur les prix. On utilisera la colonne *neighbourhood_group_cleansed***"
   ]
  },
  {
   "cell_type": "code",
   "execution_count": 18,
   "metadata": {
    "colab": {
     "base_uri": "https://localhost:8080/",
     "height": 386
    },
    "colab_type": "code",
    "executionInfo": {
     "elapsed": 2537,
     "status": "ok",
     "timestamp": 1587570552540,
     "user": {
      "displayName": "Philéas Samir",
      "photoUrl": "https://lh5.googleusercontent.com/-FbBGbDYQ448/AAAAAAAAAAI/AAAAAAAAAUo/cYIvd5guwHI/s64/photo.jpg",
      "userId": "10441094633115017513"
     },
     "user_tz": -120
    },
    "id": "qgC18mASuHpw",
    "outputId": "8738a0b9-f8b7-471d-dd98-80ddf4ca1ab4"
   },
   "outputs": [
    {
     "data": {
      "text/plain": [
       "<seaborn.axisgrid.FacetGrid at 0x1a27c352d0>"
      ]
     },
     "execution_count": 18,
     "metadata": {},
     "output_type": "execute_result"
    },
    {
     "data": {
      "image/png": "[encoded data removed]",
      "text/plain": [
       "<Figure size 900x360 with 1 Axes>"
      ]
     },
     "metadata": {
      "needs_background": "light"
     },
     "output_type": "display_data"
    }
   ],
   "source": [
    "sns.catplot(x=\"neighbourhood_group_cleansed\", y=\"price\", data= avg_priced_dataset, kind=\"bar\", height=5, aspect=2.5)"
   ]
  },
  {
   "cell_type": "markdown",
   "metadata": {
    "colab_type": "text",
    "id": "3oOk8myjx_8n"
   },
   "source": [
    "**Regardez de même avec le type de propriété**"
   ]
  },
  {
   "cell_type": "code",
   "execution_count": 19,
   "metadata": {
    "colab": {
     "base_uri": "https://localhost:8080/",
     "height": 727
    },
    "colab_type": "code",
    "executionInfo": {
     "elapsed": 3601,
     "status": "ok",
     "timestamp": 1568793311399,
     "user": {
      "displayName": "Charles TANGUY",
      "photoUrl": "",
      "userId": "14578398709468794185"
     },
     "user_tz": -120
    },
    "id": "DV0ucKS2vHq1",
    "outputId": "3c7f94e5-3cae-4e95-c419-1098dfd6e416"
   },
   "outputs": [
    {
     "data": {
      "text/plain": [
       "<seaborn.axisgrid.FacetGrid at 0x1a36116790>"
      ]
     },
     "execution_count": 19,
     "metadata": {},
     "output_type": "execute_result"
    },
    {
     "data": {
      "image/png": "[encoded data removed]",
      "text/plain": [
       "<Figure size 900x360 with 1 Axes>"
      ]
     },
     "metadata": {
      "needs_background": "light"
     },
     "output_type": "display_data"
    }
   ],
   "source": [
    "sns.catplot(x=\"property_type\", y=\"price\", data=avg_priced_dataset, kind=\"bar\", height=5, aspect=2.5)"
   ]
  },
  {
   "cell_type": "markdown",
   "metadata": {
    "colab_type": "text",
    "id": "U-xbv5VGzVYE"
   },
   "source": [
    "**Regardez cette fois les prix par rapport au type de chambre**"
   ]
  },
  {
   "cell_type": "code",
   "execution_count": 20,
   "metadata": {
    "colab": {
     "base_uri": "https://localhost:8080/",
     "height": 386
    },
    "colab_type": "code",
    "executionInfo": {
     "elapsed": 1954,
     "status": "ok",
     "timestamp": 1568793432416,
     "user": {
      "displayName": "Charles TANGUY",
      "photoUrl": "",
      "userId": "14578398709468794185"
     },
     "user_tz": -120
    },
    "id": "AC-1JDLazCHu",
    "outputId": "cff82f89-97bd-4458-c4cb-ad8f8b529519"
   },
   "outputs": [
    {
     "data": {
      "text/plain": [
       "<seaborn.axisgrid.FacetGrid at 0x1a1da08a50>"
      ]
     },
     "execution_count": 20,
     "metadata": {},
     "output_type": "execute_result"
    },
    {
     "data": {
      "image/png": "[encoded data removed]",
      "text/plain": [
       "<Figure size 360x360 with 1 Axes>"
      ]
     },
     "metadata": {
      "needs_background": "light"
     },
     "output_type": "display_data"
    }
   ],
   "source": [
    "sns.catplot(x=\"room_type\", y=\"price\", data=avg_priced_dataset, kind=\"bar\")"
   ]
  },
  {
   "cell_type": "markdown",
   "metadata": {
    "colab_type": "text",
    "id": "Zw2wWq4E0CQf"
   },
   "source": [
    "**On pourrait se demander si le temps de réponse du _Host_ aurait une influence sur le prix. Vérifiez le**"
   ]
  },
  {
   "cell_type": "code",
   "execution_count": 21,
   "metadata": {
    "colab": {
     "base_uri": "https://localhost:8080/",
     "height": 707
    },
    "colab_type": "code",
    "executionInfo": {
     "elapsed": 2356,
     "status": "ok",
     "timestamp": 1568793465552,
     "user": {
      "displayName": "Charles TANGUY",
      "photoUrl": "",
      "userId": "14578398709468794185"
     },
     "user_tz": -120
    },
    "id": "Nb6vkjRIzdbb",
    "outputId": "c2b8c4cb-f6f3-4e5e-9cd3-41747df94b3f"
   },
   "outputs": [
    {
     "data": {
      "text/plain": [
       "<seaborn.axisgrid.FacetGrid at 0x1a1e839610>"
      ]
     },
     "execution_count": 21,
     "metadata": {},
     "output_type": "execute_result"
    },
    {
     "data": {
      "image/png": "[encoded data removed]",
      "text/plain": [
       "<Figure size 900x360 with 1 Axes>"
      ]
     },
     "metadata": {
      "needs_background": "light"
     },
     "output_type": "display_data"
    }
   ],
   "source": [
    "sns.catplot(x=\"host_response_time\", y=\"price\", data=avg_priced_dataset, kind=\"bar\",height=5, aspect=2.5)"
   ]
  },
  {
   "cell_type": "markdown",
   "metadata": {
    "colab_type": "text",
    "id": "CRz_HdaG0hub"
   },
   "source": [
    "**Ce graphique semble être intéressant et surtout. Regardez de plus près la distribution des prix des _host_ qui répondent _within few days or more_**"
   ]
  },
  {
   "cell_type": "code",
   "execution_count": 22,
   "metadata": {
    "colab": {
     "base_uri": "https://localhost:8080/",
     "height": 300
    },
    "colab_type": "code",
    "executionInfo": {
     "elapsed": 678,
     "status": "ok",
     "timestamp": 1568793588740,
     "user": {
      "displayName": "Charles TANGUY",
      "photoUrl": "",
      "userId": "14578398709468794185"
     },
     "user_tz": -120
    },
    "id": "n64dIaRw0N53",
    "outputId": "021f07bd-7d48-4ff0-a6e2-39dbbcfdd398"
   },
   "outputs": [
    {
     "data": {
      "text/plain": [
       "<matplotlib.axes._subplots.AxesSubplot at 0x1a3541a050>"
      ]
     },
     "execution_count": 22,
     "metadata": {},
     "output_type": "execute_result"
    },
    {
     "data": {
      "image/png": "[encoded data removed]",
      "text/plain": [
       "<Figure size 432x288 with 1 Axes>"
      ]
     },
     "metadata": {
      "needs_background": "light"
     },
     "output_type": "display_data"
    }
   ],
   "source": [
    "sns.distplot(avg_priced_dataset[\"price\"][avg_priced_dataset[\"host_response_time\"] == \"a few days or more\"])\n",
    "#On applique un masque grâce à avg_priced_dataset[\"host_response_time\"] == \"a few days or more\" qui nous permet de\n",
    "#sélectionner les valeurs dans la colonne \"price\" qui correspondent à notre condition"
   ]
  },
  {
   "cell_type": "markdown",
   "metadata": {
    "colab_type": "text",
    "id": "PPRbUVVd1Kyh"
   },
   "source": [
    "**Il semblerait en effet que les host qui répondent lentement soient dans la moyenne haute des prix. Cependant, cela ne veut pas dire que l'expérience des clients soit bonne. Nous regarderons les reviews juste ensuite.** \n",
    "\n",
    "**Avant cela, regardons l'influence du fait d'être _super host_ sur les prix**\n"
   ]
  },
  {
   "cell_type": "code",
   "execution_count": 23,
   "metadata": {
    "colab": {
     "base_uri": "https://localhost:8080/",
     "height": 386
    },
    "colab_type": "code",
    "executionInfo": {
     "elapsed": 7189,
     "status": "ok",
     "timestamp": 1557325601777,
     "user": {
      "displayName": "Antoine Krajnc",
      "photoUrl": "https://lh3.googleusercontent.com/-GGFNV6eC-aY/AAAAAAAAAAI/AAAAAAAAAQA/POEUtAgposw/s64/photo.jpg",
      "userId": "08465960390418158788"
     },
     "user_tz": -120
    },
    "id": "tzVOOjKR09-c",
    "outputId": "80d2aaf5-19d7-4088-ba2c-776ec9c0cd6c"
   },
   "outputs": [
    {
     "data": {
      "text/plain": [
       "<seaborn.axisgrid.FacetGrid at 0x1a36768050>"
      ]
     },
     "execution_count": 23,
     "metadata": {},
     "output_type": "execute_result"
    },
    {
     "data": {
      "image/png": "[encoded data removed]",
      "text/plain": [
       "<Figure size 360x360 with 1 Axes>"
      ]
     },
     "metadata": {
      "needs_background": "light"
     },
     "output_type": "display_data"
    }
   ],
   "source": [
    "sns.catplot(x=\"host_is_superhost\", y=\"price\", data=avg_priced_dataset, kind=\"bar\")"
   ]
  },
  {
   "cell_type": "markdown",
   "metadata": {
    "colab_type": "text",
    "id": "_CSdCU891_JE"
   },
   "source": [
    "**Regardons cette fois l'influence de la maison en elle-même sur le prix d'un Airbnb** \n",
    "\n",
    "**Regardez l'influence des prix par rapport au nombre de lits, de chambres, de salles de bains et du nombre de personnes possibles dans le logement**"
   ]
  },
  {
   "cell_type": "code",
   "execution_count": 24,
   "metadata": {
    "colab": {
     "base_uri": "https://localhost:8080/",
     "height": 386
    },
    "colab_type": "code",
    "executionInfo": {
     "elapsed": 2370,
     "status": "ok",
     "timestamp": 1568793703894,
     "user": {
      "displayName": "Charles TANGUY",
      "photoUrl": "",
      "userId": "14578398709468794185"
     },
     "user_tz": -120
    },
    "id": "KhTrADDB2S9q",
    "outputId": "757ae0ba-bcb9-4ce8-b088-cdf9c08a0ab5"
   },
   "outputs": [
    {
     "data": {
      "text/plain": [
       "<seaborn.axisgrid.FacetGrid at 0x1a1e844290>"
      ]
     },
     "execution_count": 24,
     "metadata": {},
     "output_type": "execute_result"
    },
    {
     "data": {
      "image/png": "[encoded data removed]",
      "text/plain": [
       "<Figure size 360x360 with 1 Axes>"
      ]
     },
     "metadata": {
      "needs_background": "light"
     },
     "output_type": "display_data"
    }
   ],
   "source": [
    "sns.catplot(x=\"beds\", y=\"price\", data=avg_priced_dataset, kind=\"bar\")"
   ]
  },
  {
   "cell_type": "code",
   "execution_count": 25,
   "metadata": {
    "colab": {
     "base_uri": "https://localhost:8080/",
     "height": 207
    },
    "colab_type": "code",
    "executionInfo": {
     "elapsed": 480,
     "status": "ok",
     "timestamp": 1568793880352,
     "user": {
      "displayName": "Charles TANGUY",
      "photoUrl": "",
      "userId": "14578398709468794185"
     },
     "user_tz": -120
    },
    "id": "qjxXgfV6Zjj0",
    "outputId": "5c2cc960-1298-4e5d-ebe6-2fdde7b20381"
   },
   "outputs": [
    {
     "data": {
      "text/plain": [
       "1.0     54830\n",
       "2.0     18471\n",
       "3.0      7643\n",
       "4.0      2387\n",
       "5.0       469\n",
       "6.0       193\n",
       "7.0       169\n",
       "9.0        81\n",
       "8.0        24\n",
       "10.0        9\n",
       "Name: beds, dtype: int64"
      ]
     },
     "execution_count": 25,
     "metadata": {},
     "output_type": "execute_result"
    }
   ],
   "source": [
    "avg_priced_dataset.beds.value_counts()"
   ]
  },
  {
   "cell_type": "code",
   "execution_count": 26,
   "metadata": {
    "colab": {
     "base_uri": "https://localhost:8080/",
     "height": 386
    },
    "colab_type": "code",
    "executionInfo": {
     "elapsed": 2323,
     "status": "ok",
     "timestamp": 1568793939292,
     "user": {
      "displayName": "Charles TANGUY",
      "photoUrl": "",
      "userId": "14578398709468794185"
     },
     "user_tz": -120
    },
    "id": "SM7Za73q2csY",
    "outputId": "1d29ff0d-827c-4973-f8a8-71f1d82b3e3a"
   },
   "outputs": [
    {
     "data": {
      "text/plain": [
       "<seaborn.axisgrid.FacetGrid at 0x1a1f4dc8d0>"
      ]
     },
     "execution_count": 26,
     "metadata": {},
     "output_type": "execute_result"
    },
    {
     "data": {
      "image/png": "[encoded data removed]",
      "text/plain": [
       "<Figure size 360x360 with 1 Axes>"
      ]
     },
     "metadata": {
      "needs_background": "light"
     },
     "output_type": "display_data"
    }
   ],
   "source": [
    "sns.catplot(x=\"bedrooms\", y=\"price\", data=avg_priced_dataset, kind=\"bar\")"
   ]
  },
  {
   "cell_type": "code",
   "execution_count": 27,
   "metadata": {
    "colab": {
     "base_uri": "https://localhost:8080/",
     "height": 386
    },
    "colab_type": "code",
    "executionInfo": {
     "elapsed": 3629,
     "status": "ok",
     "timestamp": 1557325823954,
     "user": {
      "displayName": "Antoine Krajnc",
      "photoUrl": "https://lh3.googleusercontent.com/-GGFNV6eC-aY/AAAAAAAAAAI/AAAAAAAAAQA/POEUtAgposw/s64/photo.jpg",
      "userId": "08465960390418158788"
     },
     "user_tz": -120
    },
    "id": "dRIbOg-K2g_V",
    "outputId": "f95843a9-1990-4f68-c3a0-1f4f9e634142"
   },
   "outputs": [
    {
     "data": {
      "text/plain": [
       "<seaborn.axisgrid.FacetGrid at 0x1a359dbf90>"
      ]
     },
     "execution_count": 27,
     "metadata": {},
     "output_type": "execute_result"
    },
    {
     "data": {
      "image/png": "[encoded data removed]",
      "text/plain": [
       "<Figure size 360x360 with 1 Axes>"
      ]
     },
     "metadata": {
      "needs_background": "light"
     },
     "output_type": "display_data"
    }
   ],
   "source": [
    "sns.catplot(x=\"bathrooms\", y=\"price\", data=avg_priced_dataset, kind=\"bar\")"
   ]
  },
  {
   "cell_type": "code",
   "execution_count": 28,
   "metadata": {
    "colab": {
     "base_uri": "https://localhost:8080/",
     "height": 386
    },
    "colab_type": "code",
    "executionInfo": {
     "elapsed": 3406,
     "status": "ok",
     "timestamp": 1557325843149,
     "user": {
      "displayName": "Antoine Krajnc",
      "photoUrl": "https://lh3.googleusercontent.com/-GGFNV6eC-aY/AAAAAAAAAAI/AAAAAAAAAQA/POEUtAgposw/s64/photo.jpg",
      "userId": "08465960390418158788"
     },
     "user_tz": -120
    },
    "id": "Yd-aeM_Q2m-Z",
    "outputId": "a0fa706b-9cc2-4ebb-cbea-29da8e293d92"
   },
   "outputs": [
    {
     "data": {
      "text/plain": [
       "<seaborn.axisgrid.FacetGrid at 0x1a1f5d4610>"
      ]
     },
     "execution_count": 28,
     "metadata": {},
     "output_type": "execute_result"
    },
    {
     "data": {
      "image/png": "[encoded data removed]",
      "text/plain": [
       "<Figure size 360x360 with 1 Axes>"
      ]
     },
     "metadata": {
      "needs_background": "light"
     },
     "output_type": "display_data"
    }
   ],
   "source": [
    "sns.catplot(x=\"accommodates\", y=\"price\", data=avg_priced_dataset, kind=\"bar\")"
   ]
  },
  {
   "cell_type": "code",
   "execution_count": 29,
   "metadata": {
    "colab": {
     "base_uri": "https://localhost:8080/",
     "height": 1000
    },
    "colab_type": "code",
    "executionInfo": {
     "elapsed": 7293,
     "status": "ok",
     "timestamp": 1587570939498,
     "user": {
      "displayName": "Philéas Samir",
      "photoUrl": "https://lh5.googleusercontent.com/-FbBGbDYQ448/AAAAAAAAAAI/AAAAAAAAAUo/cYIvd5guwHI/s64/photo.jpg",
      "userId": "10441094633115017513"
     },
     "user_tz": -120
    },
    "id": "ZrzfsrocmNU7",
    "outputId": "22c0f405-20fb-4a69-be43-88e9154e5d75"
   },
   "outputs": [
    {
     "data": {
      "image/png": "[encoded data removed]",
      "text/plain": [
       "<Figure size 360x360 with 1 Axes>"
      ]
     },
     "metadata": {
      "needs_background": "light"
     },
     "output_type": "display_data"
    },
    {
     "data": {
      "image/png": "[encoded data removed]",
      "text/plain": [
       "<Figure size 360x360 with 1 Axes>"
      ]
     },
     "metadata": {
      "needs_background": "light"
     },
     "output_type": "display_data"
    },
    {
     "data": {
      "image/png": "[encoded data removed]",
      "text/plain": [
       "<Figure size 360x360 with 1 Axes>"
      ]
     },
     "metadata": {
      "needs_background": "light"
     },
     "output_type": "display_data"
    },
    {
     "data": {
      "image/png": "[encoded data removed]",
      "text/plain": [
       "<Figure size 360x360 with 1 Axes>"
      ]
     },
     "metadata": {
      "needs_background": "light"
     },
     "output_type": "display_data"
    }
   ],
   "source": [
    "liste = [\"beds\",\"bedrooms\",\"bathrooms\",\"accommodates\"]\n",
    "for column in liste:\n",
    "  sns.catplot(x=column, y=\"price\", data=avg_priced_dataset, kind=\"bar\")\n",
    "  plt.show()"
   ]
  },
  {
   "cell_type": "markdown",
   "metadata": {
    "colab_type": "text",
    "id": "k7Uwt5di10Dv"
   },
   "source": [
    "**Enfin, nous aimerions voir si les _amenities_ ont une influence sur le prix. Pour cela, nous ne pouvons pas utiliser les valeurs telles quelles dans le dataset. Trouvez donc un moyenne de les parser pour les mettre dans seaborn**\n"
   ]
  },
  {
   "cell_type": "code",
   "execution_count": 30,
   "metadata": {
    "colab": {
     "base_uri": "https://localhost:8080/",
     "height": 120
    },
    "colab_type": "code",
    "executionInfo": {
     "elapsed": 763,
     "status": "ok",
     "timestamp": 1587571131021,
     "user": {
      "displayName": "Philéas Samir",
      "photoUrl": "https://lh5.googleusercontent.com/-FbBGbDYQ448/AAAAAAAAAAI/AAAAAAAAAUo/cYIvd5guwHI/s64/photo.jpg",
      "userId": "10441094633115017513"
     },
     "user_tz": -120
    },
    "id": "vDwXY-pRaeBe",
    "outputId": "f88255ad-d695-4a11-9c23-b803c3aa8b5f"
   },
   "outputs": [
    {
     "data": {
      "text/plain": [
       "0    {TV,\"Cable TV\",Internet,\"Wireless Internet\",\"A...\n",
       "1    {TV,\"Cable TV\",Internet,\"Wireless Internet\",\"A...\n",
       "2    {TV,\"Cable TV\",Internet,\"Wireless Internet\",\"A...\n",
       "3    {TV,\"Cable TV\",Internet,\"Wireless Internet\",\"A...\n",
       "4    {TV,\"Cable TV\",Internet,\"Wireless Internet\",\"A...\n",
       "Name: amenities, dtype: object"
      ]
     },
     "execution_count": 30,
     "metadata": {},
     "output_type": "execute_result"
    }
   ],
   "source": [
    "dataset.amenities.head()"
   ]
  },
  {
   "cell_type": "code",
   "execution_count": 31,
   "metadata": {
    "colab": {
     "base_uri": "https://localhost:8080/",
     "height": 140
    },
    "colab_type": "code",
    "executionInfo": {
     "elapsed": 792,
     "status": "ok",
     "timestamp": 1587571142954,
     "user": {
      "displayName": "Philéas Samir",
      "photoUrl": "https://lh5.googleusercontent.com/-FbBGbDYQ448/AAAAAAAAAAI/AAAAAAAAAUo/cYIvd5guwHI/s64/photo.jpg",
      "userId": "10441094633115017513"
     },
     "user_tz": -120
    },
    "id": "C_yAHuQt1r8d",
    "outputId": "50026183-2a15-4332-db05-7fe2a9962e8c"
   },
   "outputs": [
    {
     "name": "stderr",
     "output_type": "stream",
     "text": [
      "/opt/anaconda3/lib/python3.7/site-packages/ipykernel_launcher.py:1: SettingWithCopyWarning: \n",
      "A value is trying to be set on a copy of a slice from a DataFrame.\n",
      "Try using .loc[row_indexer,col_indexer] = value instead\n",
      "\n",
      "See the caveats in the documentation: https://pandas.pydata.org/pandas-docs/stable/user_guide/indexing.html#returning-a-view-versus-a-copy\n",
      "  \"\"\"Entry point for launching an IPython kernel.\n"
     ]
    }
   ],
   "source": [
    "avg_priced_dataset[\"number_of_amenities\"]= avg_priced_dataset[\"amenities\"].apply(lambda x: len(x.split(\",\")))"
   ]
  },
  {
   "cell_type": "code",
   "execution_count": 32,
   "metadata": {
    "colab": {
     "base_uri": "https://localhost:8080/",
     "height": 386
    },
    "colab_type": "code",
    "executionInfo": {
     "elapsed": 3070,
     "status": "ok",
     "timestamp": 1587571248827,
     "user": {
      "displayName": "Philéas Samir",
      "photoUrl": "https://lh5.googleusercontent.com/-FbBGbDYQ448/AAAAAAAAAAI/AAAAAAAAAUo/cYIvd5guwHI/s64/photo.jpg",
      "userId": "10441094633115017513"
     },
     "user_tz": -120
    },
    "id": "M1_2duql2_uP",
    "outputId": "c654676e-5da0-4d6c-e948-249961a46c6f"
   },
   "outputs": [
    {
     "data": {
      "text/plain": [
       "<seaborn.axisgrid.FacetGrid at 0x1a36014ad0>"
      ]
     },
     "execution_count": 32,
     "metadata": {},
     "output_type": "execute_result"
    },
    {
     "data": {
      "image/png": "[encoded data removed]",
      "text/plain": [
       "<Figure size 720x360 with 1 Axes>"
      ]
     },
     "metadata": {
      "needs_background": "light"
     },
     "output_type": "display_data"
    }
   ],
   "source": [
    "sns.catplot(x=\"number_of_amenities\", y=\"price\", data=avg_priced_dataset, kind=\"bar\", height=5, aspect=2)"
   ]
  },
  {
   "cell_type": "markdown",
   "metadata": {
    "colab_type": "text",
    "id": "gLzpals_7A8r"
   },
   "source": [
    "**7. Attaquons maintenant les reviews, il semblerait bon de commencer par la distribution des reviews**"
   ]
  },
  {
   "cell_type": "code",
   "execution_count": 33,
   "metadata": {
    "colab": {
     "base_uri": "https://localhost:8080/",
     "height": 301
    },
    "colab_type": "code",
    "executionInfo": {
     "elapsed": 721,
     "status": "ok",
     "timestamp": 1568794490480,
     "user": {
      "displayName": "Charles TANGUY",
      "photoUrl": "",
      "userId": "14578398709468794185"
     },
     "user_tz": -120
    },
    "id": "TMjniDEz6GhT",
    "outputId": "6f156722-57e4-40b0-db4b-37942d7b8b1d"
   },
   "outputs": [
    {
     "data": {
      "text/plain": [
       "<matplotlib.axes._subplots.AxesSubplot at 0x1a23e87cd0>"
      ]
     },
     "execution_count": 33,
     "metadata": {},
     "output_type": "execute_result"
    },
    {
     "data": {
      "image/png": "[encoded data removed]",
      "text/plain": [
       "<Figure size 432x288 with 1 Axes>"
      ]
     },
     "metadata": {
      "needs_background": "light"
     },
     "output_type": "display_data"
    }
   ],
   "source": [
    "sns.distplot(avg_priced_dataset[\"review_scores_rating\"].dropna())"
   ]
  },
  {
   "cell_type": "code",
   "execution_count": 34,
   "metadata": {
    "colab": {
     "base_uri": "https://localhost:8080/",
     "height": 35
    },
    "colab_type": "code",
    "executionInfo": {
     "elapsed": 604,
     "status": "ok",
     "timestamp": 1557327590712,
     "user": {
      "displayName": "Antoine Krajnc",
      "photoUrl": "https://lh3.googleusercontent.com/-GGFNV6eC-aY/AAAAAAAAAAI/AAAAAAAAAQA/POEUtAgposw/s64/photo.jpg",
      "userId": "08465960390418158788"
     },
     "user_tz": -120
    },
    "id": "EhAF6DZr89e9",
    "outputId": "dc450ec1-f7cb-4f8d-97fc-64a968ec96cb"
   },
   "outputs": [
    {
     "name": "stdout",
     "output_type": "stream",
     "text": [
      "la review moyenne du dataset est de 94.88823480541676\n"
     ]
    }
   ],
   "source": [
    "print(\"la review moyenne du dataset est de {}\".format(avg_priced_dataset[\"review_scores_rating\"].mean()))"
   ]
  },
  {
   "cell_type": "markdown",
   "metadata": {
    "colab_type": "text",
    "id": "l3kjJF3P9XJ2"
   },
   "source": [
    "**Nous avons pris la moyenne sur le dataset sans les outliers. Prenez les dataset complet et regardez si vous voyez une différence**"
   ]
  },
  {
   "cell_type": "code",
   "execution_count": 35,
   "metadata": {
    "colab": {
     "base_uri": "https://localhost:8080/",
     "height": 302
    },
    "colab_type": "code",
    "executionInfo": {
     "elapsed": 760,
     "status": "ok",
     "timestamp": 1557327644841,
     "user": {
      "displayName": "Antoine Krajnc",
      "photoUrl": "https://lh3.googleusercontent.com/-GGFNV6eC-aY/AAAAAAAAAAI/AAAAAAAAAQA/POEUtAgposw/s64/photo.jpg",
      "userId": "08465960390418158788"
     },
     "user_tz": -120
    },
    "id": "q-SrlSFp9KnM",
    "outputId": "95003b59-3465-448c-e9a2-0e213cc78162"
   },
   "outputs": [
    {
     "data": {
      "text/plain": [
       "<matplotlib.axes._subplots.AxesSubplot at 0x1a23c32cd0>"
      ]
     },
     "execution_count": 35,
     "metadata": {},
     "output_type": "execute_result"
    },
    {
     "data": {
      "image/png": "[encoded data removed]",
      "text/plain": [
       "<Figure size 432x288 with 1 Axes>"
      ]
     },
     "metadata": {
      "needs_background": "light"
     },
     "output_type": "display_data"
    }
   ],
   "source": [
    "sns.distplot(dataset[\"review_scores_rating\"].dropna())"
   ]
  },
  {
   "cell_type": "code",
   "execution_count": 36,
   "metadata": {
    "colab": {
     "base_uri": "https://localhost:8080/",
     "height": 35
    },
    "colab_type": "code",
    "executionInfo": {
     "elapsed": 406,
     "status": "ok",
     "timestamp": 1557327656706,
     "user": {
      "displayName": "Antoine Krajnc",
      "photoUrl": "https://lh3.googleusercontent.com/-GGFNV6eC-aY/AAAAAAAAAAI/AAAAAAAAAQA/POEUtAgposw/s64/photo.jpg",
      "userId": "08465960390418158788"
     },
     "user_tz": -120
    },
    "id": "wh0aJOJb9gUf",
    "outputId": "94ea98b3-aeae-4948-fa64-2c9d23d92dbf"
   },
   "outputs": [
    {
     "name": "stdout",
     "output_type": "stream",
     "text": [
      "la review moyenne du dataset complet est de 94.89636798736281\n"
     ]
    }
   ],
   "source": [
    "print(\"la review moyenne du dataset complet est de {}\".format(dataset[\"review_scores_rating\"].mean()))"
   ]
  },
  {
   "cell_type": "markdown",
   "metadata": {
    "colab_type": "text",
    "id": "Uo_G3dYg9l_x"
   },
   "source": [
    "**8. On peut voir que les notes sont extrêmement élevée pour la plupart des biens. Mais voyons si nous pouvons trouver des facteurs qui influencent une meilleure review**\n",
    "\n",
    "**Commencez par regarder la *cancellation_policy* sur les reviews**"
   ]
  },
  {
   "cell_type": "code",
   "execution_count": 37,
   "metadata": {
    "colab": {
     "base_uri": "https://localhost:8080/",
     "height": 387
    },
    "colab_type": "code",
    "executionInfo": {
     "elapsed": 2988,
     "status": "ok",
     "timestamp": 1568794554756,
     "user": {
      "displayName": "Charles TANGUY",
      "photoUrl": "",
      "userId": "14578398709468794185"
     },
     "user_tz": -120
    },
    "id": "QUzca_oi9jSf",
    "outputId": "1cf705a8-9af3-4a94-8d67-bfffe304c9e2"
   },
   "outputs": [
    {
     "data": {
      "text/plain": [
       "(80, 100)"
      ]
     },
     "execution_count": 37,
     "metadata": {},
     "output_type": "execute_result"
    },
    {
     "data": {
      "image/png": "[encoded data removed]",
      "text/plain": [
       "<Figure size 360x360 with 1 Axes>"
      ]
     },
     "metadata": {
      "needs_background": "light"
     },
     "output_type": "display_data"
    }
   ],
   "source": [
    "sns.catplot(x=\"cancellation_policy\", y=\"review_scores_rating\", data=avg_priced_dataset, kind=\"bar\")\n",
    "plt.ylim(80,100)"
   ]
  },
  {
   "cell_type": "markdown",
   "metadata": {
    "colab_type": "text",
    "id": "h4RYvFaW_JIj"
   },
   "source": [
    "**9. Est ce que le nombre de reviews peut influencer le score de chacun des biens ?** "
   ]
  },
  {
   "cell_type": "code",
   "execution_count": 38,
   "metadata": {
    "colab": {
     "base_uri": "https://localhost:8080/",
     "height": 386
    },
    "colab_type": "code",
    "executionInfo": {
     "elapsed": 2239,
     "status": "ok",
     "timestamp": 1568794612312,
     "user": {
      "displayName": "Charles TANGUY",
      "photoUrl": "",
      "userId": "14578398709468794185"
     },
     "user_tz": -120
    },
    "id": "Exn2bNEy-J79",
    "outputId": "7038a3a7-0b3b-4619-ba22-f69b45ff8611"
   },
   "outputs": [
    {
     "data": {
      "text/plain": [
       "<seaborn.axisgrid.FacetGrid at 0x1a1e661d90>"
      ]
     },
     "execution_count": 38,
     "metadata": {},
     "output_type": "execute_result"
    },
    {
     "data": {
      "image/png": "[encoded data removed]",
      "text/plain": [
       "<Figure size 360x360 with 1 Axes>"
      ]
     },
     "metadata": {
      "needs_background": "light"
     },
     "output_type": "display_data"
    }
   ],
   "source": [
    "sns.relplot(x=\"number_of_reviews\", y=\"review_scores_rating\", data=avg_priced_dataset)"
   ]
  },
  {
   "cell_type": "markdown",
   "metadata": {
    "colab_type": "text",
    "id": "rQEjvR-A_0Hn"
   },
   "source": [
    "**10. Nous avions vu tout à l'heure que les personnes qui mettaient du temps à répondre avaient tendance à pratiquer des prix plus élevés. Est ce que pour autant ceux-ci ont des bonnes reviews ?**"
   ]
  },
  {
   "cell_type": "code",
   "execution_count": 39,
   "metadata": {
    "colab": {
     "base_uri": "https://localhost:8080/",
     "height": 387
    },
    "colab_type": "code",
    "executionInfo": {
     "elapsed": 2232,
     "status": "ok",
     "timestamp": 1568794702591,
     "user": {
      "displayName": "Charles TANGUY",
      "photoUrl": "",
      "userId": "14578398709468794185"
     },
     "user_tz": -120
    },
    "id": "CWbVIZki_Uw2",
    "outputId": "606328d4-2352-487a-ecbd-98a7562bcff9"
   },
   "outputs": [
    {
     "data": {
      "text/plain": [
       "(80, 100)"
      ]
     },
     "execution_count": 39,
     "metadata": {},
     "output_type": "execute_result"
    },
    {
     "data": {
      "image/png": "[encoded data removed]",
      "text/plain": [
       "<Figure size 360x360 with 1 Axes>"
      ]
     },
     "metadata": {
      "needs_background": "light"
     },
     "output_type": "display_data"
    }
   ],
   "source": [
    "sns.catplot(x=\"host_response_time\", \n",
    "            y=\"review_scores_rating\", \n",
    "            data= avg_priced_dataset, \n",
    "            kind=\"bar\")\n",
    "plt.ylim(80, 100)"
   ]
  },
  {
   "cell_type": "markdown",
   "metadata": {
    "colab_type": "text",
    "id": "rUPfRhSvA6mu"
   },
   "source": [
    "**11. Bravo ! Vous avez fait une étude très approfondie du marché de l'immobilier Airbnb à Seattle. Ceci n'a pas été vain, imaginez maintenant que vous avez été mandaté par un propriétaire qui souhaite mettre sur appartement sur Airbnb.**\n",
    "\n",
    "**Quelles seraient vos recommandations ?**"
   ]
  },
  {
   "cell_type": "markdown",
   "metadata": {
    "colab_type": "text",
    "id": "ZsSUs-tdBQhh"
   },
   "source": [
    "1. Si vous souhaitez pratiquer des prix élevé, il vaudra mieux louer votre bien en entier. Il sera donc préférable de laisser votre appartement pendant que vous partez en vacances par exemple.\n",
    "\n",
    "2. Soyez rapide lorsqu'un de vos potentiel locataire vous envoie un message. Cela est apprécié. \n",
    "\n",
    "3. Vous pouvez pratiquer la _cancellation policy_ que vous souhaitez, cela n'aura pas d'impact sur l'expérience de vos clients. \n",
    "\n",
    "4. Proposez le maximum d'amenities car vous pourrez faire monter le prix du bien. \n",
    "\n",
    "5. Soyez attentif au quartier dans lequel vous êtes et le type de bien que vous louez. En fonction, vous pourrez pratiquer des prix plus élevés ou plus faibles "
   ]
  },
  {
   "cell_type": "code",
   "execution_count": 0,
   "metadata": {
    "colab": {},
    "colab_type": "code",
    "id": "OzBlPSnGAJ--"
   },
   "outputs": [],
   "source": []
  }
 ],
 "metadata": {
  "colab": {
   "collapsed_sections": [],
   "name": "Airbnb in Seattle - Exercice SOLUTION.ipynb",
   "provenance": []
  },
  "kernelspec": {
   "display_name": "Python 3",
   "language": "python",
   "name": "python3"
  },
  "language_info": {
   "codemirror_mode": {
    "name": "ipython",
    "version": 3
   },
   "file_extension": ".py",
   "mimetype": "text/x-python",
   "name": "python",
   "nbconvert_exporter": "python",
   "pygments_lexer": "ipython3",
   "version": "3.7.6"
  }
 },
 "nbformat": 4,
 "nbformat_minor": 1
}
